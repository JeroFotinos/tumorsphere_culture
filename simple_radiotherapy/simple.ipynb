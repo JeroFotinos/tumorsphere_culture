{
 "cells": [
  {
   "cell_type": "code",
   "execution_count": 1,
   "id": "3e6975f3-316f-4138-b115-b4281dbd5621",
   "metadata": {},
   "outputs": [],
   "source": [
    "from tumorsphere.core.simulation import Simulation"
   ]
  },
  {
   "cell_type": "code",
   "execution_count": 2,
   "id": "463deeea-eaeb-49d0-92cf-0dc81b707584",
   "metadata": {},
   "outputs": [],
   "source": [
    "sim = Simulation(\n",
    "    prob_stem=[0.7],\n",
    "    prob_diff=[0],\n",
    "    prob_supervivence_radiotherapy=[0.6],\n",
    "    num_of_realizations=2,\n",
    "    num_of_steps_per_realization=7,\n",
    ")"
   ]
  },
  {
   "cell_type": "code",
   "execution_count": 4,
   "id": "d961fbf5-4d2d-4af8-9941-f02f825cb549",
   "metadata": {},
   "outputs": [],
   "source": [
    "sim.simulate_parallel(\n",
    "    sql=False,\n",
    "    output_dir=\"simple_radiotherapy\",\n",
    ")"
   ]
  },
  {
   "cell_type": "code",
   "execution_count": null,
   "id": "5f3f120a-b974-41cd-8445-7bb1718dc011",
   "metadata": {},
   "outputs": [],
   "source": []
  }
 ],
 "metadata": {
  "kernelspec": {
   "display_name": "tum_cult",
   "language": "python",
   "name": "tum_cult"
  },
  "language_info": {
   "codemirror_mode": {
    "name": "ipython",
    "version": 3
   },
   "file_extension": ".py",
   "mimetype": "text/x-python",
   "name": "python",
   "nbconvert_exporter": "python",
   "pygments_lexer": "ipython3",
   "version": "3.10.12"
  }
 },
 "nbformat": 4,
 "nbformat_minor": 5
}
