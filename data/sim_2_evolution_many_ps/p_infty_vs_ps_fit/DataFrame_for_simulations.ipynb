{
 "cells": [
  {
   "cell_type": "code",
   "execution_count": 1,
   "id": "546c86eb",
   "metadata": {},
   "outputs": [
    {
     "ename": "ModuleNotFoundError",
     "evalue": "No module named 'pandas'",
     "output_type": "error",
     "traceback": [
      "\u001b[0;31m---------------------------------------------------------------------------\u001b[0m",
      "\u001b[0;31mModuleNotFoundError\u001b[0m                       Traceback (most recent call last)",
      "Cell \u001b[0;32mIn[1], line 1\u001b[0m\n\u001b[0;32m----> 1\u001b[0m \u001b[38;5;28;01mimport\u001b[39;00m \u001b[38;5;21;01mpandas\u001b[39;00m \u001b[38;5;28;01mas\u001b[39;00m \u001b[38;5;21;01mpd\u001b[39;00m\n\u001b[1;32m      2\u001b[0m \u001b[38;5;28;01mimport\u001b[39;00m \u001b[38;5;21;01mglob\u001b[39;00m\n\u001b[1;32m      4\u001b[0m \u001b[38;5;66;03m# Define the path to the directory where the data files are stored\u001b[39;00m\n",
      "\u001b[0;31mModuleNotFoundError\u001b[0m: No module named 'pandas'"
     ]
    }
   ],
   "source": [
    "import pandas as pd\n",
    "import glob\n",
    "\n",
    "# Define the path to the directory where the data files are stored\n",
    "data_dir = '/home/nate/Devel/tumorsphere_culture/data/sim_2_evolution_many_ps/dat_files'\n",
    "\n",
    "# Define the columns of the final dataframe\n",
    "cols = ['ps', 'n', 'time', 'total_cells', 'active_cells', 'stem_cells', 'active_stem_cells']\n",
    "\n",
    "# Create an empty dataframe to hold the data from all the simulations\n",
    "df = pd.DataFrame(columns=cols)\n",
    "\n",
    "# Loop over all the data files in the directory\n",
    "for file_path in glob.glob(data_dir + '/*.dat'):\n",
    "\n",
    "    # Extract the values of ps and n from the file name\n",
    "    ps, n = file_path.split('/')[-1].replace('.dat', '').split('-')\n",
    "\n",
    "    # Load the data from the file into a temporary dataframe\n",
    "    temp_df = pd.read_csv(file_path, header=None, names=['total_cells', 'active_cells', 'stem_cells', 'active_stem_cells'])\n",
    "\n",
    "    # Add columns for ps, n, and time to the temporary dataframe\n",
    "    temp_df['ps'] = float(ps)\n",
    "    temp_df['n'] = int(n)\n",
    "    temp_df['time'] = range(1, len(temp_df)+1)\n",
    "\n",
    "    # Melt the temporary dataframe to create separate columns for each time point\n",
    "    temp_df = temp_df.melt(id_vars=['ps', 'n', 'time'], var_name='variable', value_name='value')\n",
    "\n",
    "    # Add the melted temporary dataframe to the final dataframe\n",
    "    df = pd.concat([df, temp_df], axis=0)\n",
    "\n",
    "# Pivot the final dataframe to create separate columns for each variable\n",
    "df = df.pivot_table(index=['ps', 'n', 'time'], columns='variable', values='value').reset_index()\n",
    "\n",
    "# Reorder the columns of the final dataframe\n",
    "df = df[cols]\n"
   ]
  },
  {
   "cell_type": "code",
   "execution_count": null,
   "id": "6a524925",
   "metadata": {},
   "outputs": [],
   "source": []
  }
 ],
 "metadata": {
  "kernelspec": {
   "display_name": "tumorsphere_culture_venv_kernel",
   "language": "python",
   "name": "tumorsphere_culture_venv_kernel"
  },
  "language_info": {
   "codemirror_mode": {
    "name": "ipython",
    "version": 3
   },
   "file_extension": ".py",
   "mimetype": "text/x-python",
   "name": "python",
   "nbconvert_exporter": "python",
   "pygments_lexer": "ipython3",
   "version": "3.10.6"
  }
 },
 "nbformat": 4,
 "nbformat_minor": 5
}
