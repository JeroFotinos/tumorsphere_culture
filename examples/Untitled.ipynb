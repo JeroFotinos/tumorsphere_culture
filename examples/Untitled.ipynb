{
 "cells": [
  {
   "cell_type": "code",
   "execution_count": 1,
   "id": "65de3a52",
   "metadata": {},
   "outputs": [],
   "source": [
    "class Tea:\n",
    "    def __init__(self,is_stem = False):\n",
    "        self.is_stem = is_stem\n",
    "        self._colors = {True: \"red\", False: \"blue\"}"
   ]
  },
  {
   "cell_type": "code",
   "execution_count": 2,
   "id": "ab917ac5",
   "metadata": {},
   "outputs": [],
   "source": [
    "oolong = Tea()"
   ]
  },
  {
   "cell_type": "code",
   "execution_count": 4,
   "id": "2010140c",
   "metadata": {},
   "outputs": [
    {
     "data": {
      "text/plain": [
       "'blue'"
      ]
     },
     "execution_count": 4,
     "metadata": {},
     "output_type": "execute_result"
    }
   ],
   "source": [
    "oolong._colors[oolong.is_stem]"
   ]
  },
  {
   "cell_type": "code",
   "execution_count": 5,
   "id": "1ea35b51",
   "metadata": {},
   "outputs": [],
   "source": [
    "oolong.is_stem = True"
   ]
  },
  {
   "cell_type": "code",
   "execution_count": 6,
   "id": "3584ebf5",
   "metadata": {},
   "outputs": [
    {
     "data": {
      "text/plain": [
       "'red'"
      ]
     },
     "execution_count": 6,
     "metadata": {},
     "output_type": "execute_result"
    }
   ],
   "source": [
    "oolong._colors[oolong.is_stem]"
   ]
  },
  {
   "cell_type": "code",
   "execution_count": null,
   "id": "9c4fb23f",
   "metadata": {},
   "outputs": [],
   "source": []
  }
 ],
 "metadata": {
  "kernelspec": {
   "display_name": "tumorsphere_culture_venv_kernel",
   "language": "python",
   "name": "tumorsphere_culture_venv_kernel"
  },
  "language_info": {
   "codemirror_mode": {
    "name": "ipython",
    "version": 3
   },
   "file_extension": ".py",
   "mimetype": "text/x-python",
   "name": "python",
   "nbconvert_exporter": "python",
   "pygments_lexer": "ipython3",
   "version": "3.10.6"
  }
 },
 "nbformat": 4,
 "nbformat_minor": 5
}
