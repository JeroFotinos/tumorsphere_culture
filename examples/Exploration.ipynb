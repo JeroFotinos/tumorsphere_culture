{
 "cells": [
  {
   "cell_type": "code",
   "execution_count": 1,
   "id": "a41f6c9f",
   "metadata": {},
   "outputs": [],
   "source": [
    "from tumorsphere.cells import *\n",
    "from tumorsphere.culture import *"
   ]
  },
  {
   "cell_type": "code",
   "execution_count": 2,
   "id": "7922d3af",
   "metadata": {},
   "outputs": [],
   "source": [
    "# !pip list"
   ]
  },
  {
   "cell_type": "code",
   "execution_count": 3,
   "id": "77037ae1",
   "metadata": {},
   "outputs": [],
   "source": [
    "culture = Culture()"
   ]
  },
  {
   "cell_type": "code",
   "execution_count": 4,
   "id": "07f726bd",
   "metadata": {},
   "outputs": [],
   "source": [
    "culture.simulate(1)"
   ]
  },
  {
   "cell_type": "code",
   "execution_count": 5,
   "id": "47761f88",
   "metadata": {},
   "outputs": [
    {
     "data": {
      "text/plain": [
       "[<tumorsphere.cells.Cell at 0x7fbb6fecc310>,\n",
       " <tumorsphere.cells.Cell at 0x7fbba44235b0>]"
      ]
     },
     "execution_count": 5,
     "metadata": {},
     "output_type": "execute_result"
    }
   ],
   "source": [
    "culture.cells"
   ]
  },
  {
   "cell_type": "code",
   "execution_count": 6,
   "id": "cacced34",
   "metadata": {},
   "outputs": [
    {
     "data": {
      "text/plain": [
       "[<tumorsphere.cells.Cell at 0x7fbba44235b0>]"
      ]
     },
     "execution_count": 6,
     "metadata": {},
     "output_type": "execute_result"
    }
   ],
   "source": [
    "culture.cells[0].neighbors"
   ]
  },
  {
   "cell_type": "code",
   "execution_count": null,
   "id": "939d79f1",
   "metadata": {},
   "outputs": [],
   "source": [
    "culture.cells[0].neighbors = [culture.cells[1]]"
   ]
  },
  {
   "cell_type": "code",
   "execution_count": null,
   "id": "aea92959",
   "metadata": {},
   "outputs": [],
   "source": [
    "culture.cells[0].neighbors"
   ]
  },
  {
   "cell_type": "code",
   "execution_count": null,
   "id": "15c14aa8",
   "metadata": {},
   "outputs": [],
   "source": [
    "culture.cells[0].neighbors = []"
   ]
  },
  {
   "cell_type": "code",
   "execution_count": null,
   "id": "770da70b",
   "metadata": {},
   "outputs": [],
   "source": [
    "culture.cells[0].neighbors.append(culture.cells[1])"
   ]
  },
  {
   "cell_type": "code",
   "execution_count": null,
   "id": "158a72f0",
   "metadata": {},
   "outputs": [],
   "source": [
    "culture.cells[0].neighbors"
   ]
  },
  {
   "cell_type": "code",
   "execution_count": null,
   "id": "8b237f7e",
   "metadata": {},
   "outputs": [],
   "source": [
    "culture.cells[1].neighbors"
   ]
  },
  {
   "cell_type": "code",
   "execution_count": null,
   "id": "bb0f2cea",
   "metadata": {},
   "outputs": [],
   "source": [
    "culture.cells[1].find_neighbors()"
   ]
  },
  {
   "cell_type": "code",
   "execution_count": null,
   "id": "ed449d25",
   "metadata": {},
   "outputs": [],
   "source": [
    "culture.cells[1].neighbors"
   ]
  },
  {
   "cell_type": "markdown",
   "id": "9122c7d9",
   "metadata": {},
   "source": [
    "Claramente el método `find_neighbors()` no está funcionando."
   ]
  },
  {
   "cell_type": "code",
   "execution_count": 7,
   "id": "5c2317ec",
   "metadata": {},
   "outputs": [],
   "source": [
    "culture.simulate(1)"
   ]
  },
  {
   "cell_type": "code",
   "execution_count": 8,
   "id": "66523d4c",
   "metadata": {},
   "outputs": [
    {
     "data": {
      "text/plain": [
       "[<tumorsphere.cells.Cell at 0x7f6f5c4cd810>,\n",
       " <tumorsphere.cells.Cell at 0x7f6f278dc3d0>,\n",
       " <tumorsphere.cells.Cell at 0x7f6f5c4f6500>,\n",
       " <tumorsphere.cells.Cell at 0x7f6f5c4cf3d0>]"
      ]
     },
     "execution_count": 8,
     "metadata": {},
     "output_type": "execute_result"
    }
   ],
   "source": [
    "culture.cells"
   ]
  },
  {
   "cell_type": "code",
   "execution_count": 9,
   "id": "5278f80a",
   "metadata": {},
   "outputs": [
    {
     "data": {
      "text/plain": [
       "[]"
      ]
     },
     "execution_count": 9,
     "metadata": {},
     "output_type": "execute_result"
    }
   ],
   "source": [
    "culture.cells[0].neighbors"
   ]
  },
  {
   "cell_type": "markdown",
   "id": "e84c47be",
   "metadata": {},
   "source": [
    "Test exploration"
   ]
  },
  {
   "cell_type": "code",
   "execution_count": 2,
   "id": "daacf825",
   "metadata": {},
   "outputs": [],
   "source": [
    "csc_culture = Culture(cell_max_repro_attempts=500, first_cell_type=\"csc\")"
   ]
  },
  {
   "cell_type": "code",
   "execution_count": 3,
   "id": "6894a575",
   "metadata": {},
   "outputs": [
    {
     "data": {
      "text/plain": [
       "[<tumorsphere.cells.Csc at 0x7f646c2dc070>]"
      ]
     },
     "execution_count": 3,
     "metadata": {},
     "output_type": "execute_result"
    }
   ],
   "source": [
    "csc_culture.cells"
   ]
  },
  {
   "cell_type": "code",
   "execution_count": 4,
   "id": "ff39f508",
   "metadata": {},
   "outputs": [],
   "source": [
    "csc_culture.simulate(1)"
   ]
  },
  {
   "cell_type": "code",
   "execution_count": 5,
   "id": "1a8322f7",
   "metadata": {},
   "outputs": [
    {
     "data": {
      "text/plain": [
       "[<tumorsphere.cells.Csc at 0x7f646c2dc070>,\n",
       " <tumorsphere.cells.Dcc at 0x7f64946a7b50>]"
      ]
     },
     "execution_count": 5,
     "metadata": {},
     "output_type": "execute_result"
    }
   ],
   "source": [
    "csc_culture.cells"
   ]
  },
  {
   "cell_type": "code",
   "execution_count": 6,
   "id": "a751f3bc",
   "metadata": {},
   "outputs": [],
   "source": [
    "cell_to_remove = csc_culture.cells[1]"
   ]
  },
  {
   "cell_type": "code",
   "execution_count": 7,
   "id": "8900cc67",
   "metadata": {},
   "outputs": [],
   "source": [
    "csc_culture.cells.remove(cell_to_remove)"
   ]
  },
  {
   "cell_type": "code",
   "execution_count": 8,
   "id": "5af642ac",
   "metadata": {},
   "outputs": [
    {
     "data": {
      "text/plain": [
       "[<tumorsphere.cells.Csc at 0x7f646c2dc070>]"
      ]
     },
     "execution_count": 8,
     "metadata": {},
     "output_type": "execute_result"
    }
   ],
   "source": [
    "csc_culture.cells"
   ]
  },
  {
   "cell_type": "code",
   "execution_count": null,
   "id": "a36ac4ea",
   "metadata": {},
   "outputs": [],
   "source": []
  }
 ],
 "metadata": {
  "kernelspec": {
   "display_name": "tumorsphere_culture_venv_kernel",
   "language": "python",
   "name": "tumorsphere_culture_venv_kernel"
  },
  "language_info": {
   "codemirror_mode": {
    "name": "ipython",
    "version": 3
   },
   "file_extension": ".py",
   "mimetype": "text/x-python",
   "name": "python",
   "nbconvert_exporter": "python",
   "pygments_lexer": "ipython3",
   "version": "3.10.6"
  }
 },
 "nbformat": 4,
 "nbformat_minor": 5
}
