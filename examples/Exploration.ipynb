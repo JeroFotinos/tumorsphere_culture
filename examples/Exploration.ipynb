{
 "cells": [
  {
   "cell_type": "code",
   "execution_count": 1,
   "id": "a41f6c9f",
   "metadata": {},
   "outputs": [],
   "source": [
    "from tumorsphere.cells import *\n",
    "from tumorsphere.culture import *"
   ]
  },
  {
   "cell_type": "code",
   "execution_count": 2,
   "id": "7922d3af",
   "metadata": {},
   "outputs": [],
   "source": [
    "# !pip list"
   ]
  },
  {
   "cell_type": "code",
   "execution_count": 3,
   "id": "77037ae1",
   "metadata": {},
   "outputs": [],
   "source": [
    "culture = Culture()"
   ]
  },
  {
   "cell_type": "code",
   "execution_count": null,
   "id": "07f726bd",
   "metadata": {},
   "outputs": [],
   "source": [
    "culture.simulate(1)"
   ]
  },
  {
   "cell_type": "code",
   "execution_count": null,
   "id": "47761f88",
   "metadata": {},
   "outputs": [],
   "source": [
    "culture.cells"
   ]
  },
  {
   "cell_type": "code",
   "execution_count": null,
   "id": "cacced34",
   "metadata": {},
   "outputs": [],
   "source": [
    "culture.cells[0].neighbors"
   ]
  },
  {
   "cell_type": "code",
   "execution_count": null,
   "id": "939d79f1",
   "metadata": {},
   "outputs": [],
   "source": [
    "culture.cells[0].neighbors = [culture.cells[1]]"
   ]
  },
  {
   "cell_type": "code",
   "execution_count": null,
   "id": "aea92959",
   "metadata": {},
   "outputs": [],
   "source": [
    "culture.cells[0].neighbors"
   ]
  },
  {
   "cell_type": "code",
   "execution_count": null,
   "id": "15c14aa8",
   "metadata": {},
   "outputs": [],
   "source": [
    "culture.cells[0].neighbors = []"
   ]
  },
  {
   "cell_type": "code",
   "execution_count": null,
   "id": "770da70b",
   "metadata": {},
   "outputs": [],
   "source": [
    "culture.cells[0].neighbors.append(culture.cells[1])"
   ]
  },
  {
   "cell_type": "code",
   "execution_count": null,
   "id": "158a72f0",
   "metadata": {},
   "outputs": [],
   "source": [
    "culture.cells[0].neighbors"
   ]
  },
  {
   "cell_type": "code",
   "execution_count": null,
   "id": "8b237f7e",
   "metadata": {},
   "outputs": [],
   "source": [
    "culture.cells[1].neighbors"
   ]
  },
  {
   "cell_type": "code",
   "execution_count": null,
   "id": "bb0f2cea",
   "metadata": {},
   "outputs": [],
   "source": [
    "culture.cells[1].find_neighbors()"
   ]
  },
  {
   "cell_type": "code",
   "execution_count": null,
   "id": "ed449d25",
   "metadata": {},
   "outputs": [],
   "source": [
    "culture.cells[1].neighbors"
   ]
  },
  {
   "cell_type": "markdown",
   "id": "9122c7d9",
   "metadata": {},
   "source": [
    "Claramente el método `find_neighbors()` no está funcionando."
   ]
  },
  {
   "cell_type": "code",
   "execution_count": null,
   "id": "5c2317ec",
   "metadata": {},
   "outputs": [],
   "source": []
  }
 ],
 "metadata": {
  "kernelspec": {
   "display_name": "tumorsphere_culture_venv_kernel",
   "language": "python",
   "name": "tumorsphere_culture_venv_kernel"
  },
  "language_info": {
   "codemirror_mode": {
    "name": "ipython",
    "version": 3
   },
   "file_extension": ".py",
   "mimetype": "text/x-python",
   "name": "python",
   "nbconvert_exporter": "python",
   "pygments_lexer": "ipython3",
   "version": "3.10.6"
  }
 },
 "nbformat": 4,
 "nbformat_minor": 5
}
